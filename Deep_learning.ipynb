{
  "nbformat": 4,
  "nbformat_minor": 0,
  "metadata": {
    "colab": {
      "name": "Deep learning",
      "provenance": [],
      "collapsed_sections": [],
      "include_colab_link": true
    },
    "kernelspec": {
      "name": "python3",
      "display_name": "Python 3"
    }
  },
  "cells": [
    {
      "cell_type": "markdown",
      "metadata": {
        "id": "view-in-github",
        "colab_type": "text"
      },
      "source": [
        "<a href=\"https://colab.research.google.com/github/krbe9202/Deep-learning/blob/master/Deep_learning.ipynb\" target=\"_parent\"><img src=\"https://colab.research.google.com/assets/colab-badge.svg\" alt=\"Open In Colab\"/></a>"
      ]
    },
    {
      "cell_type": "code",
      "metadata": {
        "colab_type": "code",
        "outputId": "996efd6a-91b2-4666-fb7e-58e064cfc465",
        "id": "gjjwu_m5doiQ",
        "colab": {
          "base_uri": "https://localhost:8080/",
          "height": 170
        }
      },
      "source": [
        "from __future__ import absolute_import, division, print_function, unicode_literals\n",
        "\n",
        "from keras import Sequential \n",
        "from keras.layers import Conv2D, Dense, Flatten, MaxPooling2D, Dropout\n",
        "from keras.optimizers import Adam\n",
        "from keras.callbacks import EarlyStopping\n",
        "from keras.preprocessing.image import ImageDataGenerator\n",
        "from keras.utils import to_categorical\n",
        "\n",
        "# Helper libraries\n",
        "import numpy as np\n",
        "import matplotlib.pyplot as plt\n",
        "\n",
        "(train_images,train_labels),(test_images,test_labels) = fashion_mnist.load_data()\n",
        "\n",
        "#used for plotting\n",
        "class_names = ['T-shirt/top', 'Trouser', 'Pullover', 'Dress', 'Coat',\n",
        "               'Sandal', 'Shirt', 'Sneaker', 'Bag', 'Ankle boot']\n",
        "\n",
        "#add fourth dimension to images (channels)\n",
        "train_images= train_images.reshape(60000,28,28,1)\n",
        "test_images = test_images.reshape(10000,28,28,1)\n",
        "\n",
        "#scale values to range from 0 to 1\n",
        "train_images = train_images / 255.0\n",
        "test_images = test_images / 255.0\n",
        "\n",
        "#one hot encode target column\n",
        "train_labels = to_categorical(train_labels)\n",
        "test_labels = to_categorical(test_labels)\n",
        "\n",
        "def build(width, height, depth, classes):\n",
        "  #initialize model \n",
        "  model = Sequential()\n",
        "  #first convolutional layer\n",
        "  model.add(Conv2D(30,(3,3), input_shape=(28,28,1), activation='relu'))\n",
        "  #second convolutional layer\n",
        "  model.add(Conv2D(15,(3,3), activation='relu'))\n",
        "  #flatten layer \n",
        "  model.add(Flatten())\n",
        "  #output layer\n",
        "  model.add(Dense(classes, activation='softmax'))\n",
        "  return model\n",
        "\n",
        "EPOCHS = 5\n",
        "# INIT_LR = 1e-3\n",
        "# BS = 32\n",
        "model=build(28,28,1,10)\n",
        "# opt = Adam(lr=INIT_LR, decay=INIT_LR / EPOCHS)\n",
        "model.compile(loss=\"categorical_crossentropy\", optimizer=\"adam\",metrics=[\"accuracy\"])\n",
        "\n",
        "#early stopping\n",
        "# early_stopping = EarlyStopping(monitor='val_loss', min_delta=0.01, patience=4, verbose=1)\n",
        "# callbacks_list = [early_stopping]\n",
        "\n",
        "\n",
        "history = model.fit(train_images, train_labels, validation_data=(test_images,test_labels),epochs=EPOCHS)\n",
        "\n",
        "#evaluate model performance\n",
        "test_loss, test_acc = model.evaluate(test_images,  test_labels, verbose=2)\n",
        "\n",
        "#print accuracy\n",
        "print('\\nTest accuracy:', test_acc)\n",
        "\n",
        "#make predictions                            \n",
        "predictions = model.predict(test_images)\n",
        "\n",
        "\n",
        "#function that calculates the percent of correctly predicted labels compared to \n",
        "#true labels. The output is an image with its corresponding predicted label,\n",
        "#the probability for the predicted label and true label. The color of the xlabel \n",
        "#indicates if the correction is correct\n",
        "\n",
        "def image_percent(i, predictions, true_label, img): \n",
        "  predictions,true_label,img=predictions,true_label[i],img[i].reshape(28,28)\n",
        "  plt.xticks([])\n",
        "  plt.yticks([])\n",
        "  \n",
        "  plt.imshow(img,cmap=plt.cm.binary)\n",
        "\n",
        "  predicted_label = np.argmax(predictions)\n",
        "\n",
        "  if predicted_label == np.argmax(true_label):\n",
        "    color = 'blue'\n",
        "  else:\n",
        "    color = 'red' \n",
        "\n",
        "  plt.xlabel(\"{} {:2.0f}% ({})\".format(class_names[predicted_label],\n",
        "                                100*np.max(predictions),\n",
        "                                class_names[int(np.argmax(true_label))],\n",
        "                                color=color))\n",
        "\n",
        "#plot the first 25 images\n",
        "nrows=5\n",
        "ncols=5\n",
        "plt.figure(figsize=(2.5*nrows,2.5*ncols))\n",
        "for i in range(1,nrows*ncols+1):\n",
        "    plt.subplot(nrows,ncols,i)\n",
        "    image_percent(i,predictions[i],test_labels,test_images)\n",
        "plt.show()\n",
        "\n",
        "\n"
      ],
      "execution_count": 0,
      "outputs": [
        {
          "output_type": "stream",
          "text": [
            "Train on 60000 samples, validate on 10000 samples\n",
            "Epoch 1/5\n",
            "60000/60000 [==============================] - 109s 2ms/step - loss: 0.4123 - acc: 0.8548 - val_loss: 0.3361 - val_acc: 0.8788\n",
            "Epoch 2/5\n",
            "60000/60000 [==============================] - 107s 2ms/step - loss: 0.2808 - acc: 0.9001 - val_loss: 0.2930 - val_acc: 0.8943\n",
            "Epoch 3/5\n",
            "60000/60000 [==============================] - 107s 2ms/step - loss: 0.2401 - acc: 0.9143 - val_loss: 0.2691 - val_acc: 0.9058\n",
            "Epoch 4/5\n",
            "40480/60000 [===================>..........] - ETA: 33s - loss: 0.2054 - acc: 0.9243"
          ],
          "name": "stdout"
        }
      ]
    },
    {
      "cell_type": "code",
      "metadata": {
        "id": "kro9_W4Y8I7A",
        "colab_type": "code",
        "colab": {}
      },
      "source": [
        ""
      ],
      "execution_count": 0,
      "outputs": []
    }
  ]
}